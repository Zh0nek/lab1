{
 "cells": [
  {
   "cell_type": "code",
   "execution_count": null,
   "metadata": {},
   "outputs": [],
   "source": [
    "#1 task\n",
    "name = input()\n",
    "mailing_address = input()\n",
    "print(name + \"\\n\" + mailing_address)"
   ]
  },
  {
   "cell_type": "code",
   "execution_count": null,
   "metadata": {},
   "outputs": [],
   "source": [
    "#2 task\n",
    "name = input()\n",
    "print(\"Hello, \" + name)"
   ]
  },
  {
   "cell_type": "code",
   "execution_count": null,
   "metadata": {},
   "outputs": [],
   "source": [
    "#3 task\n",
    "width = float(input())\n",
    "length = float(input())\n",
    "area = width * length\n",
    "print(area, \"meter\")"
   ]
  },
  {
   "cell_type": "code",
   "execution_count": null,
   "metadata": {},
   "outputs": [],
   "source": [
    "#4\n",
    "width = int(input())\n",
    "length = int(input())\n",
    "area = width * length\n",
    "print(area/43560, \"acre\")"
   ]
  },
  {
   "cell_type": "code",
   "execution_count": null,
   "metadata": {},
   "outputs": [],
   "source": [
    "#5\n",
    "sm = int(input(\"Enter the number of small containers you recycled?\"))\n",
    "lar = int(input(\"Enter the number of large containers you recycled?\"))\n",
    "tot = (sm * 0.10) + (lar * 0.25)\n",
    "print(\"The total refund for returning the containers is $\" + \"{0:.2f}\".format(float(total)))"
   ]
  },
  {
   "cell_type": "code",
   "execution_count": 25,
   "metadata": {},
   "outputs": [
    {
     "name": "stdin",
     "output_type": "stream",
     "text": [
      " 45678\n"
     ]
    },
    {
     "name": "stdout",
     "output_type": "stream",
     "text": [
      "Tax is:  2283.9\n",
      "Tip amaount:  8222.039999999999\n",
      "The total:  10505.939999999999\n"
     ]
    }
   ],
   "source": [
    "#6\n",
    "cost = float(input())\n",
    "tax = cost * 0.05\n",
    "tip = cost * 0.18\n",
    "total = tax + tip\n",
    "print(\"Tax is: \", tax)\n",
    "print(\"Tip amaount: \", tip)\n",
    "print(\"The total: \", total)"
   ]
  },
  {
   "cell_type": "code",
   "execution_count": null,
   "metadata": {},
   "outputs": [],
   "source": [
    "#7\n",
    "n = int(input())\n",
    "sm = n * (n + 1)/2\n",
    "print(sm)"
   ]
  },
  {
   "cell_type": "code",
   "execution_count": null,
   "metadata": {},
   "outputs": [],
   "source": [
    "#8\n",
    "widget = int(input())\n",
    "gizmos = int(input())\n",
    "total = widget * 75 + gizmos * 112\n",
    "print(total)"
   ]
  },
  {
   "cell_type": "code",
   "execution_count": null,
   "metadata": {},
   "outputs": [],
   "source": [
    "#9\n",
    "money = int(input())\n",
    "sm = money * 0.04\n",
    "print(\"1 year: {:.2f}\".format(sm))\n",
    "print(\"2 year: {:.2f}\".format(2 * sm))\n",
    "print(\"3 year: {:.2f}\".format(3 * sm))"
   ]
  },
  {
   "cell_type": "code",
   "execution_count": null,
   "metadata": {},
   "outputs": [],
   "source": [
    "#10\n",
    "import math\n",
    "a = int(input())\n",
    "b = int(input())\n",
    "sm = a + b\n",
    "diff = b - a\n",
    "pr = a * b\n",
    "quo = a // b\n",
    "rem = a % b\n",
    "log = math.log10(a)\n",
    "\n",
    "print(\"The sum of a and b {}\".format(sm))\n",
    "print(\"The difference when b is subtracted from a {}\".format(diff))\n",
    "print(\"The product of a and b {}\".format(pr))\n",
    "print(\"The quotient when a is divided by b {}\".format(quo))\n",
    "print(\"The remainder when a is divided by b {}\".format(rem))\n",
    "print(\"The result of log10 a {}\".format(log))\n",
    "#print(\"The result of ab \" + )"
   ]
  },
  {
   "cell_type": "code",
   "execution_count": 3,
   "metadata": {},
   "outputs": [
    {
     "name": "stdout",
     "output_type": "stream",
     "text": [
      "1\n"
     ]
    },
    {
     "ename": "TypeError",
     "evalue": "unsupported operand type(s) for +: 'float' and 'str'",
     "output_type": "error",
     "traceback": [
      "\u001b[1;31m---------------------------------------------------------------------------\u001b[0m",
      "\u001b[1;31mTypeError\u001b[0m                                 Traceback (most recent call last)",
      "\u001b[1;32m<ipython-input-3-9a76bf62dcf7>\u001b[0m in \u001b[0;36m<module>\u001b[1;34m\u001b[0m\n\u001b[0;32m      3\u001b[0m \u001b[0mmpg\u001b[0m \u001b[1;33m=\u001b[0m \u001b[0mint\u001b[0m\u001b[1;33m(\u001b[0m\u001b[0minput\u001b[0m\u001b[1;33m(\u001b[0m\u001b[1;33m)\u001b[0m\u001b[1;33m)\u001b[0m\u001b[1;33m\u001b[0m\u001b[1;33m\u001b[0m\u001b[0m\n\u001b[0;32m      4\u001b[0m \u001b[0mcnd\u001b[0m \u001b[1;33m=\u001b[0m \u001b[1;36m100\u001b[0m\u001b[1;33m/\u001b[0m\u001b[1;33m(\u001b[0m\u001b[1;33m(\u001b[0m\u001b[0mmpg\u001b[0m \u001b[1;33m*\u001b[0m \u001b[1;36m1.609\u001b[0m\u001b[1;33m)\u001b[0m\u001b[1;33m/\u001b[0m\u001b[1;36m3.785\u001b[0m\u001b[1;33m)\u001b[0m\u001b[1;33m\u001b[0m\u001b[1;33m\u001b[0m\u001b[0m\n\u001b[1;32m----> 5\u001b[1;33m \u001b[0mprint\u001b[0m\u001b[1;33m(\u001b[0m\u001b[0mcnd\u001b[0m \u001b[1;33m+\u001b[0m \u001b[1;34m\"L/100km\"\u001b[0m\u001b[1;33m)\u001b[0m\u001b[1;33m\u001b[0m\u001b[1;33m\u001b[0m\u001b[0m\n\u001b[0m",
      "\u001b[1;31mTypeError\u001b[0m: unsupported operand type(s) for +: 'float' and 'str'"
     ]
    }
   ],
   "source": [
    "#11\n",
    "#L/100km = 100/((mpg * 1.609)/3.785)\n",
    "mpg = int(input())\n",
    "cnd = 100/((mpg * 1.609)/3.785)\n",
    "print(cnd + \"L/100km\")"
   ]
  },
  {
   "cell_type": "code",
   "execution_count": 2,
   "metadata": {},
   "outputs": [
    {
     "name": "stdout",
     "output_type": "stream",
     "text": [
      "30\n",
      "45\n",
      "30\n",
      "45\n",
      "2121.6675017759776\n"
     ]
    }
   ],
   "source": [
    "#12\n",
    "#distance=6371.01×arccos(sin(t1)×sin(t2)+cos(t1)×cos(t2)×cos(g1−g2))\n",
    "import math\n",
    "t1 = int(input())\n",
    "t2 = int(input())\n",
    "g1 = int(input())\n",
    "g2 = int(input())\n",
    "t1r = math.radians(t1)\n",
    "t2r = math.radians(t2)\n",
    "g1r = math.radians(g1)\n",
    "g2r = math.radians(g2)\n",
    "dis = math.acos(math.sin(t1r) * math.sin(t2r) + math.cos(t1r) * math.cos(t2r) * math.cos(g1r - g2r))\n",
    "distance = 6371.01 * dis\n",
    "print(distance)"
   ]
  },
  {
   "cell_type": "code",
   "execution_count": null,
   "metadata": {},
   "outputs": [],
   "source": [
    "#13\n",
    "penny = 1\n",
    "nickel = 5\n",
    "dime = 10\n",
    "quarter = 25\n",
    "loonies = 14\n",
    "toonies = 20\n",
    "pennys = 0\n",
    "dimes = 0\n",
    "nickels = 0\n",
    "quarter = 0\n",
    "loonies = 0\n",
    "toonies = 0\n",
    "cents = int(input(\"Enter an amount of money you have in cents:\"))\n",
    "if cents >= 20:\n",
    "    toonies = cents / toonies\n",
    "    cents % toonies\n",
    "if cents >= 14:\n",
    "    loonies = cents / loonies\n",
    "    cents % loonies\n",
    "if cents >= 25:\n",
    "    quarter = cents / quarter"
   ]
  },
  {
   "cell_type": "code",
   "execution_count": null,
   "metadata": {},
   "outputs": [],
   "source": [
    "#14\n",
    "m = int(input())\n",
    "inches = m * 12\n",
    "cm = inches * 2.54\n",
    "print(\"%d inches and %d cm\"%(inches, cm))"
   ]
  },
  {
   "cell_type": "code",
   "execution_count": null,
   "metadata": {},
   "outputs": [],
   "source": [
    "#15\n",
    "f = int(input())\n",
    "inches = 12 * f\n",
    "yards = f / 3\n",
    "miles = yards / 1760\n",
    "print(\"%d inches \\n %d yards \\n %d miles\"%(inches, yards, miles))"
   ]
  },
  {
   "cell_type": "code",
   "execution_count": null,
   "metadata": {},
   "outputs": [],
   "source": [
    "#16\n",
    "#area = πr2. The volume of a sphere is computed using the formula volume= 4 3πr3. \n",
    "import math\n",
    "r = int(input())\n",
    "area = math.pi * math.pow(r, 2)\n",
    "volume = 4/3 * math.pi * math.pow(r, 3)\n",
    "print(\"area = %d, volume = %d\"%(area, volume))"
   ]
  },
  {
   "cell_type": "code",
   "execution_count": null,
   "metadata": {},
   "outputs": [],
   "source": [
    "#17\n",
    "m = int(input())\n",
    "t = int(input())\n",
    "q = m * 4.186 * t\n",
    "kw = (q / 3600000) * 8.9\n",
    "print(\"q = %d and the cost of boiling water = %d\"%(q, kw))"
   ]
  },
  {
   "cell_type": "code",
   "execution_count": 6,
   "metadata": {},
   "outputs": [
    {
     "name": "stdin",
     "output_type": "stream",
     "text": [
      " 4\n",
      " 6\n"
     ]
    },
    {
     "name": "stdout",
     "output_type": "stream",
     "text": [
      "301.6\n"
     ]
    }
   ],
   "source": [
    "#18\n",
    "import math\n",
    "r = int(input())\n",
    "h = int(input())\n",
    "volume = math.pi * math.pow(r, 2) * h\n",
    "print(\"{:.1f}\".format(volume))"
   ]
  },
  {
   "cell_type": "code",
   "execution_count": 7,
   "metadata": {},
   "outputs": [
    {
     "name": "stdin",
     "output_type": "stream",
     "text": [
      " 3\n",
      " 4\n",
      " 5\n"
     ]
    },
    {
     "name": "stdout",
     "output_type": "stream",
     "text": [
      "49\n"
     ]
    }
   ],
   "source": [
    "#19\n",
    "#vf =v2 i +2ad\n",
    "vi = int(input())\n",
    "a = int(input())\n",
    "d = int(input())\n",
    "print(vi ** 2 + 2 * a * d)"
   ]
  },
  {
   "cell_type": "code",
   "execution_count": 8,
   "metadata": {},
   "outputs": [
    {
     "name": "stdin",
     "output_type": "stream",
     "text": [
      " 20000\n",
      " 12\n",
      " 20\n"
     ]
    },
    {
     "name": "stdout",
     "output_type": "stream",
     "text": [
      "577339.4274717345\n"
     ]
    }
   ],
   "source": [
    "#20\n",
    "#pv = nrt\n",
    "p = int(input())\n",
    "v = int(input())\n",
    "t = int(input())\n",
    "r = 8.314\n",
    "print((p + 273) * v / r * t)"
   ]
  },
  {
   "cell_type": "code",
   "execution_count": null,
   "metadata": {},
   "outputs": [],
   "source": [
    "#21\n",
    "#area =b×h/2\n",
    "b = int(input())\n",
    "h = int(input())\n",
    "print(b * h / 2)"
   ]
  },
  {
   "cell_type": "code",
   "execution_count": 13,
   "metadata": {},
   "outputs": [
    {
     "name": "stdin",
     "output_type": "stream",
     "text": [
      " 3\n",
      " 4\n",
      " 5\n"
     ]
    },
    {
     "name": "stdout",
     "output_type": "stream",
     "text": [
      "4.0\n"
     ]
    }
   ],
   "source": [
    "#22\n",
    "#area =s×(s−s1)×(s−s2)×(s−s3)−−−−−−−−−−−−−−−−−−−−−−−−−−√\n",
    "import math\n",
    "s1 = int(input())\n",
    "s2 = int(input())\n",
    "s3 = int(input())\n",
    "s = (s1 + s2 + s3)/3\n",
    "area = math.sqrt(s * (s - s1) * (s - s2) * (s - s3))\n",
    "print(area)"
   ]
  },
  {
   "cell_type": "code",
   "execution_count": null,
   "metadata": {},
   "outputs": [],
   "source": [
    "#23\n",
    "#area =n×s2/4×tg(πn) \n",
    "import math\n",
    "n = int(input())\n",
    "s = int(input())\n",
    "area = n * (s ** 2) / 4 * math.tan(math.pi * n)\n",
    "print(area)"
   ]
  },
  {
   "cell_type": "code",
   "execution_count": null,
   "metadata": {},
   "outputs": [],
   "source": [
    "#24\n",
    "d = int(input())\n",
    "h = int(input())\n",
    "m = int(input())\n",
    "s = int(input())\n",
    "a = d * 86400\n",
    "b = h * 3600\n",
    "c = m * 60\n",
    "print(\"%d seconds\"%(a + b + c + s))"
   ]
  },
  {
   "cell_type": "code",
   "execution_count": 15,
   "metadata": {},
   "outputs": [
    {
     "name": "stdin",
     "output_type": "stream",
     "text": [
      " 56789\n"
     ]
    },
    {
     "name": "stdout",
     "output_type": "stream",
     "text": [
      "25:0:0:0\n"
     ]
    }
   ],
   "source": [
    "#25\n",
    "from datetime import datetime, timedelta\n",
    "seconds = int(input())\n",
    "sec = timedelta(seconds)\n",
    "d = datetime(1,1,1) + sec\n",
    "print(\"%d:%d:%d:%d\" % (d.day-1, d.hour, d.minute, d.second))"
   ]
  },
  {
   "cell_type": "code",
   "execution_count": 17,
   "metadata": {},
   "outputs": [
    {
     "name": "stdout",
     "output_type": "stream",
     "text": [
      "2020-09-07 22:08:01.384898\n"
     ]
    }
   ],
   "source": [
    "#26\n",
    "import datetime\n",
    "now = datetime.datetime.now()\n",
    "print (str(now))"
   ]
  },
  {
   "cell_type": "code",
   "execution_count": null,
   "metadata": {},
   "outputs": [],
   "source": [
    "#27\n",
    "w = int(input())\n",
    "h = int(input())\n",
    "print(w / (h ** 2) * 703)"
   ]
  },
  {
   "cell_type": "code",
   "execution_count": 18,
   "metadata": {},
   "outputs": [
    {
     "name": "stdin",
     "output_type": "stream",
     "text": [
      " 3\n",
      " 4\n"
     ]
    },
    {
     "name": "stdout",
     "output_type": "stream",
     "text": [
      "14\n"
     ]
    }
   ],
   "source": [
    "#28\n",
    "#wcf = 35.74 +0.6215t + (0.4275t - 35.75) * v0.16\n",
    "t = int(input())\n",
    "v = int(input())\n",
    "print(int(35.74 + 0.6215 * t + (0.4275 - 35.75) * v * 0.16))"
   ]
  },
  {
   "cell_type": "code",
   "execution_count": null,
   "metadata": {},
   "outputs": [],
   "source": [
    "#29\n",
    "c = int(input())\n",
    "k = c + 273\n",
    "f = (9 / 5 * c) + 32\n",
    "print(\"%d Kelvin and %d Fahrenheit\"%(k, f))"
   ]
  },
  {
   "cell_type": "code",
   "execution_count": null,
   "metadata": {},
   "outputs": [],
   "source": [
    "#30\n",
    "kp = int(input())\n",
    "atm = kp / 101.3\n",
    "psi = atm / 14.69\n",
    "mc = atm / 760\n",
    "print(psi, mc, atm)"
   ]
  },
  {
   "cell_type": "code",
   "execution_count": 21,
   "metadata": {},
   "outputs": [
    {
     "name": "stdin",
     "output_type": "stream",
     "text": [
      " 123\n"
     ]
    },
    {
     "name": "stdout",
     "output_type": "stream",
     "text": [
      "6\n"
     ]
    }
   ],
   "source": [
    "#31\n",
    "s = input()\n",
    "sm = 0\n",
    "for i in s:\n",
    "    sum += int(i)\n",
    "print(sm)"
   ]
  },
  {
   "cell_type": "code",
   "execution_count": 22,
   "metadata": {},
   "outputs": [
    {
     "name": "stdin",
     "output_type": "stream",
     "text": [
      " 1\n",
      " 4\n",
      " 3\n"
     ]
    },
    {
     "name": "stdout",
     "output_type": "stream",
     "text": [
      "1 3 4\n"
     ]
    }
   ],
   "source": [
    "#32\n",
    "l = []\n",
    "a = int(input())\n",
    "b = int(input())\n",
    "c = int(input())\n",
    "l.append(a)\n",
    "l.append(b)\n",
    "l.append(c)\n",
    "maxi = max(l)\n",
    "mini = min(l)\n",
    "if a != maxi and a != mini:\n",
    "    print(mini, a, maxi)\n",
    "if b != maxi and b != mini:\n",
    "    print(mini, b, maxi)\n",
    "if c != maxi and c != mini:\n",
    "    print(mini, c, maxi)"
   ]
  },
  {
   "cell_type": "code",
   "execution_count": 24,
   "metadata": {},
   "outputs": [
    {
     "name": "stdin",
     "output_type": "stream",
     "text": [
      " 590987\n"
     ]
    },
    {
     "name": "stdout",
     "output_type": "stream",
     "text": [
      "the regular price = 2062544.63\n",
      "the discount = 825017.85\n",
      "total = 1237526.78\n"
     ]
    }
   ],
   "source": [
    "#33\n",
    "n = int(input())\n",
    "pr = n * 3.49\n",
    "d = n * 3.49 * 0.6\n",
    "print(\"the regular price = {:.2f}\".format(pr))\n",
    "print(\"the discount = {:.2f}\".format(pr - d))\n",
    "print(\"total = {:.2f}\".format(d))"
   ]
  }
 ],
 "metadata": {
  "kernelspec": {
   "display_name": "Python 3",
   "language": "python",
   "name": "python3"
  },
  "language_info": {
   "codemirror_mode": {
    "name": "ipython",
    "version": 3
   },
   "file_extension": ".py",
   "mimetype": "text/x-python",
   "name": "python",
   "nbconvert_exporter": "python",
   "pygments_lexer": "ipython3",
   "version": "3.8.3"
  }
 },
 "nbformat": 4,
 "nbformat_minor": 4
}
